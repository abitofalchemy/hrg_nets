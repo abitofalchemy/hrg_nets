{
 "cells": [
  {
   "cell_type": "code",
   "execution_count": 1,
   "metadata": {
    "collapsed": true
   },
   "outputs": [],
   "source": [
    "from collections import defaultdict\n",
    "\n",
    "import networkx as nx\n",
    "\n",
    "graph = nx.read_gml('c:/Users/rodrigo/github/hyphy/datasets/karate.gml')\n",
    "cliques = list(nx.find_cliques(graph))"
   ]
  },
  {
   "cell_type": "code",
   "execution_count": 4,
   "metadata": {
    "collapsed": false
   },
   "outputs": [],
   "source": [
    "from phoenix.helpers import *\n",
    "from phoenix.SortedKeyCollections import *\n",
    "\n",
    "models = phoenix.compress(cliques)"
   ]
  },
  {
   "cell_type": "code",
   "execution_count": 7,
   "metadata": {
    "collapsed": false
   },
   "outputs": [],
   "source": [
    "powergrid_clq_num_dist = normalize_distribution(clique_number_distribution(cliques))"
   ]
  },
  {
   "cell_type": "code",
   "execution_count": 47,
   "metadata": {
    "collapsed": false
   },
   "outputs": [
    {
     "data": {
      "text/plain": [
       "Counter({2: 0.3055555555555556,\n",
       "         3: 0.5833333333333334,\n",
       "         4: 0.05555555555555555,\n",
       "         5: 0.05555555555555555})"
      ]
     },
     "execution_count": 47,
     "metadata": {},
     "output_type": "execute_result"
    }
   ],
   "source": [
    "powergrid_clq_num_dist"
   ]
  },
  {
   "cell_type": "code",
   "execution_count": 8,
   "metadata": {
    "collapsed": false
   },
   "outputs": [],
   "source": [
    "powergrid_clq_x_clq_distribution = normalize_distributions(cliques_x_cliques_distribution(cliques))"
   ]
  },
  {
   "cell_type": "code",
   "execution_count": 18,
   "metadata": {
    "collapsed": false,
    "scrolled": true
   },
   "outputs": [
    {
     "data": {
      "text/plain": [
       "{(2, 2): Counter({0: 0.8363636363636363, 1: 0.16363636363636364}),\n",
       " (2, 3): Counter({0: 0.7229437229437229, 1: 0.27705627705627706}),\n",
       " (2, 4): Counter({0: 0.6363636363636364, 1: 0.36363636363636365}),\n",
       " (2, 5): Counter({0: 0.4090909090909091, 1: 0.5909090909090909}),\n",
       " (3, 3): Counter({0: 0.6, 1: 0.28095238095238095, 2: 0.11904761904761904}),\n",
       " (3, 4): Counter({0: 0.5, 1: 0.14285714285714285, 2: 0.35714285714285715}),\n",
       " (3,\n",
       "  5): Counter({0: 0.5238095238095238,\n",
       "          1: 0.23809523809523808,\n",
       "          2: 0.23809523809523808}),\n",
       " (4, 4): Counter({2: 1.0}),\n",
       " (4, 5): Counter({0: 1.0}),\n",
       " (5, 5): Counter({4: 1.0})}"
      ]
     },
     "execution_count": 18,
     "metadata": {},
     "output_type": "execute_result"
    }
   ],
   "source": [
    "powergrid_clq_x_clq_distribution = helpers.normalize_distributions(helpers.cliques_x_cliques_distribution(cliques))\n",
    "powergrid_clq_x_clq_distribution"
   ]
  },
  {
   "cell_type": "code",
   "execution_count": null,
   "metadata": {
    "collapsed": false
   },
   "outputs": [],
   "source": [
    "kl_divergence(powergrid_clq_num_dist, {2: 0.5, 3: 0.5})"
   ]
  },
  {
   "cell_type": "code",
   "execution_count": 490,
   "metadata": {
    "collapsed": false
   },
   "outputs": [],
   "source": [
    "from random import sample\n",
    "from itertools import combinations\n",
    "\n",
    "def decompress(clq_num_dist, clq_x_clq_dist, node_count, kl_threshold, iteration_cap=100, debug=False):\n",
    "    \n",
    "    \"\"\"In the greedy step (decision process), we choose the operation\n",
    "    that most minimizes the kl divergence.\"\"\"\n",
    "    nodes = list(range(node_count))\n",
    "    ### Initialize clqs with a clique of random selected size \n",
    "    clqs = []\n",
    "    clq_size = get_weighted_random_value(clq_num_dist)\n",
    "    clq_nodes = sample(nodes, clq_size)\n",
    "    clqs.append(clq_nodes)\n",
    "    ### Initialize hypergraph's distributions\n",
    "    ref_clq_num_dist = normalize_distribution(clique_number_distribution(clqs))\n",
    "    ref_clq_x_clq_dist = normalize_distributions(cliques_x_cliques_distribution(clqs))\n",
    "    ### Initialize kl divergence scores\n",
    "    clq_num_kl = 100 \n",
    "    clq_x_clq_kl = 100\n",
    "    avg_kl = (clq_num_kl+clq_x_clq_kl)/2\n",
    "    ###\n",
    "    i = 0\n",
    "    while avg_kl > kl_threshold and i < iteration_cap:\n",
    "        \n",
    "        # climb down from arbitrarily high KL value\n",
    "        min_clq_num_kl = 100\n",
    "        min_clq_x_clq_kl = 100\n",
    "        min_clq = []\n",
    "        \n",
    "        ### Greedy Decision Process (GDP) ###\n",
    "        for r in range(1, node_count+1):\n",
    "            # not-fully exhaustive; exhaustive becomes O(N!)\n",
    "            random_clq_of_size_r = sample(list(combinations(nodes, r)), 1)\n",
    "            assert len(random_clq_of_size_r[0]) > 0\n",
    "            \n",
    "            # update dists to represent one step forward\n",
    "            new_clq_num_dist = normalize_distribution(clique_number_distribution(clqs+random_clq_of_size_r))\n",
    "            new_clq_x_clq_dist = normalize_distributions(cliques_x_cliques_distribution(clqs+random_clq_of_size_r))\n",
    "            \n",
    "            # calculate the kl divergences of next step\n",
    "            kl_1 = kl_divergence(clq_num_dist, new_clq_num_dist)\n",
    "            kl_2 = avg_kl_divergence(clq_x_clq_dist, new_clq_x_clq_dist)\n",
    "            \n",
    "            ## king of the valley(?)-type of minimization\n",
    "            if (kl_1 < min_clq_num_kl and\n",
    "                kl_2 < min_clq_x_clq_kl):\n",
    "                \n",
    "                min_clq_num_kl = kl_1\n",
    "                min_clq_x_clq_kl = kl_2\n",
    "                min_clq = random_clq_of_size_r\n",
    "        ######### End of GDP ########\n",
    "        ### Update list of cliques, reference models, and average KL score\n",
    "        if min_clq and min_clq[0] not in clqs:\n",
    "            clqs.append(list(min_clq[0]))\n",
    "        \n",
    "            ref_clq_num_dist = normalize_distribution(clique_number_distribution(clqs))\n",
    "            ref_clq_x_clq_dist = normalize_distributions(cliques_x_cliques_distribution(clqs))\n",
    "            \n",
    "            clq_num_kl = min_clq_num_kl\n",
    "            clq_x_clq_kl = min_clq_x_clq_kl\n",
    "            \n",
    "            assert clq_num_kl == kl_divergence(clq_num_dist, ref_clq_num_dist)\n",
    "            assert clq_x_clq_kl == avg_kl_divergence(clq_x_clq_dist, ref_clq_x_clq_dist)\n",
    "            \n",
    "            avg_kl = (clq_num_kl+clq_x_clq_kl)/2\n",
    "\n",
    "            if debug:\n",
    "                print(\"iteration:\", i)\n",
    "                print(\"kl divergence of clique number distributions:\", clq_num_kl)\n",
    "                print(\"kl divergence of cliqueXclique distributions:\", clq_x_clq_kl)\n",
    "                print()\n",
    "        i += 1\n",
    "        \n",
    "    return clqs"
   ]
  },
  {
   "cell_type": "code",
   "execution_count": null,
   "metadata": {
    "collapsed": true
   },
   "outputs": [],
   "source": [
    "def get_edges_from_clique(nodes):\n",
    "    from itertools import combinations\n",
    "    return list(combinations(nodes, 2))"
   ]
  },
  {
   "cell_type": "code",
   "execution_count": 489,
   "metadata": {
    "collapsed": false,
    "scrolled": false
   },
   "outputs": [
    {
     "name": "stdout",
     "output_type": "stream",
     "text": [
      "iteration: 0\n",
      "kl divergence of clique number distributions: 3.0451042891402964\n",
      "kl divergence of cliqueXclique distributions: 36.84136148790473\n",
      "\n",
      "iteration: 1\n",
      "kl divergence of clique number distributions: 0.043692120681965735\n",
      "kl divergence of cliqueXclique distributions: 9.210340371976182\n",
      "\n",
      "iteration: 2\n",
      "kl divergence of clique number distributions: 0.19274475702175747\n",
      "kl divergence of cliqueXclique distributions: 4.778456981128077\n",
      "\n",
      "iteration: 3\n",
      "kl divergence of clique number distributions: 0.13862943611198905\n",
      "kl divergence of cliqueXclique distributions: 3.8803019993928176\n",
      "\n",
      "iteration: 4\n",
      "kl divergence of clique number distributions: 0.043692120681965735\n",
      "kl divergence of cliqueXclique distributions: 1.6788977648885874\n",
      "\n",
      "iteration: 5\n",
      "kl divergence of clique number distributions: 0.03565675726595824\n",
      "kl divergence of cliqueXclique distributions: 0.17629838235797576\n",
      "\n"
     ]
    },
    {
     "data": {
      "image/png": "[encoded data removed]",
      "text/plain": [
       "<matplotlib.figure.Figure at 0x3d3eda0>"
      ]
     },
     "metadata": {},
     "output_type": "display_data"
    }
   ],
   "source": [
    "new_clqs = decompress(clq_num_dist, clq_x_clq_dist, 7, 0.5, iteration_cap=50, debug=True)\n",
    "new_edges = [edge for clq in new_clqs for edge in get_edges_from_clique(clq)]\n",
    "new_singletons = [node[0] for node in new_clqs if len(node)==1]\n",
    "new_graph = nx.Graph(new_edges)\n",
    "new_graph.add_nodes_from(new_singletons)\n",
    "nx.draw_networkx(new_graph)"
   ]
  },
  {
   "cell_type": "code",
   "execution_count": 424,
   "metadata": {
    "collapsed": false
   },
   "outputs": [
    {
     "data": {
      "text/plain": [
       "Counter({1: 0.2, 2: 0.4, 3: 0.4})"
      ]
     },
     "execution_count": 424,
     "metadata": {},
     "output_type": "execute_result"
    }
   ],
   "source": [
    "clq_num_dist"
   ]
  },
  {
   "cell_type": "code",
   "execution_count": 425,
   "metadata": {
    "collapsed": false
   },
   "outputs": [
    {
     "data": {
      "text/plain": [
       "[[1, 2, 0], [1, 2, 3], [1, 4], [5], [6, 2]]"
      ]
     },
     "execution_count": 425,
     "metadata": {},
     "output_type": "execute_result"
    },
    {
     "data": {
      "image/png": "[encoded data removed]",
      "text/plain": [
       "<matplotlib.figure.Figure at 0x3c16550>"
      ]
     },
     "metadata": {},
     "output_type": "display_data"
    }
   ],
   "source": [
    "%matplotlib inline\n",
    "#clqs = [[0,1], [1,2], [2,3], [0,2,4], [5]]\n",
    "graph = nx.Graph([[0,1], [1,2], [2,3], [1,3], [1,4], [2,6], [0,2]])\n",
    "graph.add_node(5)\n",
    "clqs = list(nx.find_cliques(graph))\n",
    "nx.draw_networkx(graph)\n",
    "clqs"
   ]
  },
  {
   "cell_type": "code",
   "execution_count": null,
   "metadata": {
    "collapsed": true
   },
   "outputs": [],
   "source": [
    "nx.draw_networkx()"
   ]
  },
  {
   "cell_type": "code",
   "execution_count": 426,
   "metadata": {
    "collapsed": false,
    "scrolled": false
   },
   "outputs": [
    {
     "data": {
      "text/plain": [
       "Counter({1: 0.2, 2: 0.4, 3: 0.4})"
      ]
     },
     "execution_count": 426,
     "metadata": {},
     "output_type": "execute_result"
    }
   ],
   "source": [
    "clq_num_dist = normalize_distribution(clique_number_distribution(clqs))\n",
    "clq_num_dist"
   ]
  },
  {
   "cell_type": "code",
   "execution_count": 427,
   "metadata": {
    "collapsed": false
   },
   "outputs": [
    {
     "data": {
      "text/plain": [
       "{(1, 2): Counter({0: 1.0}),\n",
       " (1, 3): Counter({0: 1.0}),\n",
       " (2, 2): Counter({0: 1.0}),\n",
       " (2, 3): Counter({1: 1.0}),\n",
       " (3, 3): Counter({2: 1.0})}"
      ]
     },
     "execution_count": 427,
     "metadata": {},
     "output_type": "execute_result"
    }
   ],
   "source": [
    "clq_x_clq_dist = normalize_distributions(cliques_x_cliques_distribution(clqs))\n",
    "clq_x_clq_dist"
   ]
  },
  {
   "cell_type": "code",
   "execution_count": 15,
   "metadata": {
    "collapsed": false
   },
   "outputs": [
    {
     "name": "stdout",
     "output_type": "stream",
     "text": [
      "0.087176693572389\n",
      "0.020410997260127572\n",
      "0.0\n",
      "2.096823955695145\n"
     ]
    }
   ],
   "source": [
    "from math import log\n",
    "#https://en.wikipedia.org/wiki/Kullback%E2%80%93Leibler_divergence\n",
    "def kl_divergence(dist1, dist2):\n",
    "    s = 0\n",
    "    for key, val in dist1.items():\n",
    "        s += val*(log(val) - log(dist2.get(key,0.0001)))\n",
    "    return s\n",
    "\n",
    "dist1 = {'a': 0.5, 'b': 0.5}\n",
    "dist2 = {'a': 0.7, 'b': 0.3}\n",
    "dist3 = {'a': 0.6, 'b': 0.4}\n",
    "\n",
    "dist4 = {1: 10, 2: 10}\n",
    "dist5 = {1: 11, 2: 11}\n",
    "print(kl_divergence(dist1, dist2))\n",
    "print(kl_divergence(dist1, dist3))\n",
    "print(kl_divergence(dist1, dist1))\n",
    "print(kl_divergence(dist5, dist4))"
   ]
  },
  {
   "cell_type": "code",
   "execution_count": 39,
   "metadata": {
    "collapsed": false
   },
   "outputs": [
    {
     "name": "stdout",
     "output_type": "stream",
     "text": [
      "0.19978713589474384\n",
      "0.133845970617884\n",
      "0.1105176694627888\n",
      "0.05148410968566466\n"
     ]
    }
   ],
   "source": [
    "def avg_kl_divergence(dists1, dists2):\n",
    "    s = 0\n",
    "    \n",
    "    for key0, val0 in dists1.items():\n",
    "        dist2 = dists2.get(key0,{})\n",
    "        for key1, val1 in val0.items():\n",
    "            s += val1*(log(val1) - log(dist2.get(key1,0.0001)))\n",
    "            \n",
    "    s /= len(dists2) or 1\n",
    "    return s\n",
    "\n",
    "d1 = {(2, 2): Counter({0: 0.8363636363636363, 1: 0.16363636363636364}),\n",
    " (2, 3): Counter({0: 0.7229437229437229, 1: 0.27705627705627706}),\n",
    " (2, 4): Counter({0: 0.6363636363636364, 1: 0.36363636363636365})}\n",
    "\n",
    "d2 = {(2, 2): Counter({0: 0.5, 1: 0.5}),\n",
    " (2, 3): Counter({0: 0.5, 1: 0.5}),\n",
    " (2, 4): Counter({0: 0.9, 1: 0.1})}\n",
    "\n",
    "d3 = {(2, 2): Counter({0: 0.7, 1: 0.3}),\n",
    " (2, 3): Counter({0: 0.5, 1: 0.5}),\n",
    " (2, 4): Counter({0: 0.9, 1: 0.1})}\n",
    "\n",
    "d4 = {(2, 2): Counter({0: 0.7, 1: 0.3}),\n",
    " (2, 3): Counter({0: 0.6, 1: 0.4}),\n",
    " (2, 4): Counter({0: 0.9, 1: 0.1})}\n",
    "\n",
    "d5 = {(2, 2): Counter({0: 0.7, 1: 0.3}),\n",
    " (2, 3): Counter({0: 0.6, 1: 0.4}),\n",
    " (2, 4): Counter({0: 0.8, 1: 0.2})}\n",
    "\n",
    "print(avg_kl_divergence(d1,d2))\n",
    "\n",
    "print(avg_kl_divergence(d1,d3))\n",
    "\n",
    "print(avg_kl_divergence(d1,d4))\n",
    "\n",
    "print(avg_kl_divergence(d1,d5))"
   ]
  },
  {
   "cell_type": "code",
   "execution_count": null,
   "metadata": {
    "collapsed": true
   },
   "outputs": [],
   "source": []
  }
 ],
 "metadata": {
  "kernelspec": {
   "display_name": "Python 3",
   "language": "python",
   "name": "python3"
  }
 },
 "nbformat": 4,
 "nbformat_minor": 0
}
